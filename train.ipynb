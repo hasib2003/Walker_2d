{
  "cells": [
    {
      "cell_type": "code",
      "execution_count": 1,
      "metadata": {
        "id": "C-70iggIbLp1"
      },
      "outputs": [
        {
          "name": "stderr",
          "output_type": "stream",
          "text": [
            "2024-12-22 06:57:29.341842: I tensorflow/core/util/port.cc:113] oneDNN custom operations are on. You may see slightly different numerical results due to floating-point round-off errors from different computation orders. To turn them off, set the environment variable `TF_ENABLE_ONEDNN_OPTS=0`.\n",
            "2024-12-22 06:57:29.420829: I tensorflow/core/platform/cpu_feature_guard.cc:210] This TensorFlow binary is optimized to use available CPU instructions in performance-critical operations.\n",
            "To enable the following instructions: AVX2 AVX_VNNI FMA, in other operations, rebuild TensorFlow with the appropriate compiler flags.\n",
            "2024-12-22 06:57:30.699042: W tensorflow/compiler/tf2tensorrt/utils/py_utils.cc:38] TF-TRT Warning: Could not find TensorRT\n"
          ]
        }
      ],
      "source": [
        "import os\n",
        "import time\n",
        "import gymnasium as gym\n",
        "from stable_baselines3 import PPO\n",
        "from stable_baselines3.common.callbacks import CheckpointCallback, EvalCallback, BaseCallback\n",
        "from stable_baselines3.common.env_util import make_vec_env\n",
        "# from google.colab import drive\n",
        "import numpy as np\n",
        "import matplotlib.pyplot as plt\n",
        "from stable_baselines3.common.monitor import Monitor\n",
        "import numpy as np"
      ]
    },
    {
      "cell_type": "code",
      "execution_count": 16,
      "metadata": {
        "id": "dvFcXdN5bR9N"
      },
      "outputs": [],
      "source": [
        "chk_path = \"walker-2d\"\n",
        "env_name = \"Walker2d-v5\"\n",
        "algorithm = \"ppo\""
      ]
    },
    {
      "cell_type": "code",
      "execution_count": null,
      "metadata": {
        "id": "AKAUnJCebkgE"
      },
      "outputs": [],
      "source": [
        "os.makedirs(os.path.join(chk_path, env_name), exist_ok=True)"
      ]
    },
    {
      "cell_type": "code",
      "execution_count": null,
      "metadata": {
        "id": "BgaRljWcbq8G"
      },
      "outputs": [],
      "source": [
        "vec_env = make_vec_env(lambda: Monitor(gym.make(env_name)), n_envs=4)"
      ]
    },
    {
      "cell_type": "code",
      "execution_count": null,
      "metadata": {
        "id": "2DE8455ccuH7"
      },
      "outputs": [],
      "source": [
        "env = Monitor(gym.make(env_name))\n"
      ]
    },
    {
      "cell_type": "code",
      "execution_count": null,
      "metadata": {
        "id": "ZbWoWeKKeYj0"
      },
      "outputs": [],
      "source": [
        "checkpoint_callback = CheckpointCallback(save_freq=50000, save_path=chk_path, name_prefix=env_name)\n",
        "eval_callback = EvalCallback(\n",
        "    env,\n",
        "    best_model_save_path=chk_path,\n",
        "    log_path=os.path.join(chk_path, \"eval_logs\"),\n",
        "    eval_freq=10000,\n",
        "    deterministic=True,\n",
        "    render=False,\n",
        ")"
      ]
    },
    {
      "cell_type": "code",
      "execution_count": null,
      "metadata": {
        "colab": {
          "base_uri": "https://localhost:8080/"
        },
        "id": "8MI1COR4buOg",
        "outputId": "6b16107c-f398-4d39-d12e-a0d56a9f9857"
      },
      "outputs": [
        {
          "name": "stdout",
          "output_type": "stream",
          "text": [
            "Using cpu device\n",
            "Wrapping the env in a DummyVecEnv.\n"
          ]
        }
      ],
      "source": [
        "model = PPO(\"MlpPolicy\", env, verbose=1, tensorboard_log=chk_path)"
      ]
    },
    {
      "cell_type": "code",
      "execution_count": null,
      "metadata": {
        "colab": {
          "base_uri": "https://localhost:8080/",
          "height": 34,
          "referenced_widgets": [
            "46852470cfb94659a29f86728e85ce56"
          ]
        },
        "id": "w0l8D9RicsR4",
        "outputId": "443b5ab9-43a7-4e13-92d4-76b71a47b8c8"
      },
      "outputs": [
        {
          "data": {
            "text/html": [
              "<pre style=\"white-space:pre;overflow-x:auto;line-height:normal;font-family:Menlo,'DejaVu Sans Mono',consolas,'Courier New',monospace\"><span style=\"color: #800080; text-decoration-color: #800080\">  78%</span> <span style=\"color: #f92672; text-decoration-color: #f92672\">━━━━━━━━━━━━━━━━━━━━━━━━━━━━━━━━━━━━━━━━━━━━━━</span><span style=\"color: #3a3a3a; text-decoration-color: #3a3a3a\">╺━━━━━━━━━━━━</span> <span style=\"color: #008000; text-decoration-color: #008000\">156,714/200,000 </span> [ <span style=\"color: #808000; text-decoration-color: #808000\">0:08:21</span> &lt; <span style=\"color: #008080; text-decoration-color: #008080\">0:02:20</span> , <span style=\"color: #800000; text-decoration-color: #800000\">311 it/s</span> ]\n",
              "</pre>\n"
            ],
            "text/plain": [
              "\u001b[35m  78%\u001b[0m \u001b[38;2;249;38;114m━━━━━━━━━━━━━━━━━━━━━━━━━━━━━━━━━━━━━━━━━━━━━━\u001b[0m\u001b[38;5;237m╺\u001b[0m\u001b[38;5;237m━━━━━━━━━━━━\u001b[0m \u001b[32m156,714/200,000 \u001b[0m [ \u001b[33m0:08:21\u001b[0m < \u001b[36m0:02:20\u001b[0m , \u001b[31m311 it/s\u001b[0m ]\n"
            ]
          },
          "metadata": {},
          "output_type": "display_data"
        }
      ],
      "source": [
        "# try:\n",
        "#     print(\"training started...\")\n",
        "#     total_training_time = 3 * 60 * 60  # 3 hours\n",
        "#     start_time = time.time()\n",
        "\n",
        "#     while time.time() - start_time < total_training_time:\n",
        "#         model.learn(\n",
        "#             total_timesteps=200000,\n",
        "#             callback=[checkpoint_callback, eval_callback],progress_bar=True,)\n",
        "#         model.save(os.path.join(chk_path, f\"{env_name}_latest\"))\n",
        "\n",
        "# except KeyboardInterrupt:\n",
        "#     print(\"Keyboard. Saving latest model: \")\n",
        "#     model.save(os.path.join(chk_path, f\"{env_name}_interrupted\"))\n",
        "\n",
        "# model.save(os.path.join(chk_path, f\"{env_name}_final\"))\n",
        "# vec_env.close()\n",
        "# env.close()"
      ]
    },
    {
      "cell_type": "code",
      "execution_count": null,
      "metadata": {
        "colab": {
          "base_uri": "https://localhost:8080/"
        },
        "id": "AQcrdY6eHOBW",
        "outputId": "38661aa7-3a7e-4354-fc06-72f39ea6907e"
      },
      "outputs": [
        {
          "name": "stdout",
          "output_type": "stream",
          "text": [
            "<class 'numpy.ndarray'>\n",
            "(1,)\n",
            "[278.23536]\n"
          ]
        }
      ],
      "source": [
        "rewards_path = \"/content/drive/MyDrive/RL_Checkpoints/walker-2d/rewards.npy\"\n",
        "rewards = np.load(rewards_path)\n",
        "print(type(rewards))\n",
        "print(rewards.shape)\n",
        "print(rewards[:10])\n"
      ]
    },
    {
      "cell_type": "code",
      "execution_count": null,
      "metadata": {
        "colab": {
          "base_uri": "https://localhost:8080/"
        },
        "id": "BaRDQSgXNygh",
        "outputId": "4f167d7f-9791-4829-caad-d388e22d2054"
      },
      "outputs": [
        {
          "name": "stdout",
          "output_type": "stream",
          "text": [
            "Trained Agent: Mean Reward = 3430.7407297000004, Std Reward = 978.7313230987836\n",
            "Random Agent: Mean Reward = 3.8348914801469305, Std Reward = 7.398245157898135\n"
          ]
        }
      ],
      "source": [
        "from stable_baselines3.common.evaluation import evaluate_policy\n",
        "\n",
        "\n",
        "model = PPO.load(os.path.join(chk_path, f\"{env_name}_final\"))\n",
        "mean_reward, std_reward = evaluate_policy(model, env, n_eval_episodes=10)\n",
        "print(f\"Trained Agent: Mean Reward = {mean_reward}, Std Reward = {std_reward}\")\n",
        "\n",
        "random_agent = lambda _: env.action_space.sample()\n",
        "random_rewards = []\n",
        "for _ in range(10):\n",
        "    obs,_ = env.reset()\n",
        "    total_reward = 0\n",
        "    done = False\n",
        "    while not done:\n",
        "        action = random_agent(obs)\n",
        "        obs, reward, terminate, truncate ,_= env.step(action)\n",
        "        done = terminate or truncate\n",
        "        total_reward += reward\n",
        "    random_rewards.append(total_reward)\n",
        "\n",
        "print(f\"Random Agent: Mean Reward = {np.mean(random_rewards)}, Std Reward = {np.std(random_rewards)}\")\n"
      ]
    },
    {
      "cell_type": "code",
      "execution_count": 7,
      "metadata": {},
      "outputs": [
        {
          "data": {
            "text/plain": [
              "(296, 296)"
            ]
          },
          "execution_count": 7,
          "metadata": {},
          "output_type": "execute_result"
        }
      ],
      "source": [
        "len(eval_data[\"timesteps\"]),len(eval_data[\"results\"])"
      ]
    },
    {
      "cell_type": "code",
      "execution_count": 12,
      "metadata": {},
      "outputs": [
        {
          "data": {
            "text/plain": [
              "array([246.337363, 254.271934, 253.868432, 249.483219, 252.989225])"
            ]
          },
          "execution_count": 12,
          "metadata": {},
          "output_type": "execute_result"
        }
      ],
      "source": [
        "eval_data[\"results\"][0]"
      ]
    },
    {
      "cell_type": "code",
      "execution_count": 15,
      "metadata": {
        "colab": {
          "base_uri": "https://localhost:8080/",
          "height": 564
        },
        "id": "teAyHEAuHUvr",
        "outputId": "2aa50b48-1f71-4919-a75c-402f6c501e2b"
      },
      "outputs": [
        {
          "data": {
            "image/png": "[encoded data removed]",
            "text/plain": [
              "<Figure size 1000x600 with 1 Axes>"
            ]
          },
          "metadata": {},
          "output_type": "display_data"
        }
      ],
      "source": [
        "eval_logs_path = \"./walker-2d/eval_logs/evaluations.npz\"\n",
        "eval_data = np.load(eval_logs_path)\n",
        "\n",
        "\n",
        "\n",
        "timesteps = eval_data[\"timesteps\"]\n",
        "mean_rewards = eval_data[\"results\"].mean(axis=1)\n",
        "std_rewards = eval_data[\"results\"].std(axis=1)\n",
        "\n",
        "plt.figure(figsize=(10, 6))\n",
        "plt.scatter(timesteps, mean_rewards, label=\"Mean Reward\")\n",
        "# plt.fill_between(\n",
        "#     timesteps,\n",
        "#     mean_rewards - std_rewards,\n",
        "#     mean_rewards + std_rewards,\n",
        "#     alpha=0.2,\n",
        "#     label=\"Standard Deviation\",\n",
        "# )\n",
        "plt.xlabel(\"Timesteps\")\n",
        "plt.ylabel(\"Mean Reward\")\n",
        "plt.title(\"Learning Curve from Evaluation Logs\")\n",
        "plt.legend()\n",
        "plt.grid()\n",
        "plt.show()\n"
      ]
    },
    {
      "cell_type": "code",
      "execution_count": 19,
      "metadata": {
        "id": "Eemt7iFcLXil"
      },
      "outputs": [
        {
          "name": "stdout",
          "output_type": "stream",
          "text": [
            "Saved plot: tensorboard/PPO_0/rollout_ep_len_mean.png\n",
            "Saved plot: tensorboard/PPO_0/rollout_ep_rew_mean.png\n",
            "Saved plot: tensorboard/PPO_0/time_fps.png\n",
            "Saved plot: tensorboard/PPO_0/train_approx_kl.png\n",
            "Saved plot: tensorboard/PPO_0/train_clip_fraction.png\n",
            "Saved plot: tensorboard/PPO_0/train_clip_range.png\n",
            "Saved plot: tensorboard/PPO_0/train_entropy_loss.png\n",
            "Saved plot: tensorboard/PPO_0/train_explained_variance.png\n",
            "Saved plot: tensorboard/PPO_0/train_learning_rate.png\n",
            "Saved plot: tensorboard/PPO_0/train_loss.png\n",
            "Saved plot: tensorboard/PPO_0/train_policy_gradient_loss.png\n",
            "Saved plot: tensorboard/PPO_0/train_std.png\n",
            "Saved plot: tensorboard/PPO_0/train_value_loss.png\n",
            "Saved plot: tensorboard/PPO_3/rollout_ep_len_mean.png\n",
            "Saved plot: tensorboard/PPO_3/rollout_ep_rew_mean.png\n",
            "Saved plot: tensorboard/PPO_3/time_fps.png\n",
            "Saved plot: tensorboard/PPO_3/train_approx_kl.png\n",
            "Saved plot: tensorboard/PPO_3/train_clip_fraction.png\n",
            "Saved plot: tensorboard/PPO_3/train_clip_range.png\n",
            "Saved plot: tensorboard/PPO_3/train_entropy_loss.png\n",
            "Saved plot: tensorboard/PPO_3/train_explained_variance.png\n",
            "Saved plot: tensorboard/PPO_3/train_learning_rate.png\n",
            "Saved plot: tensorboard/PPO_3/train_loss.png\n",
            "Saved plot: tensorboard/PPO_3/train_policy_gradient_loss.png\n",
            "Saved plot: tensorboard/PPO_3/train_std.png\n",
            "Saved plot: tensorboard/PPO_3/train_value_loss.png\n",
            "Saved plot: tensorboard/PPO_3/eval_mean_ep_length.png\n",
            "Saved plot: tensorboard/PPO_3/eval_mean_reward.png\n"
          ]
        }
      ],
      "source": [
        "import os\n",
        "import matplotlib.pyplot as plt\n",
        "from tensorboard.backend.event_processing.event_accumulator import EventAccumulator\n",
        "\n",
        "def extract_plots(log_dir, output_dir):\n",
        "    \"\"\"\n",
        "    Extract and save all plots from a TensorBoard logs directory.\n",
        "\n",
        "    Args:\n",
        "        log_dir (str): Path to the TensorBoard logs directory.\n",
        "        output_dir (str): Path to save the output plots.\n",
        "    \"\"\"\n",
        "    if not os.path.exists(output_dir):\n",
        "        os.makedirs(output_dir)\n",
        "\n",
        "    # Load TensorBoard logs\n",
        "    event_acc = EventAccumulator(log_dir)\n",
        "    event_acc.Reload()\n",
        "\n",
        "    # Extract scalar keys\n",
        "    scalar_keys = event_acc.Tags().get('scalars', [])\n",
        "    \n",
        "    for key in scalar_keys:\n",
        "        # Get scalar data\n",
        "        events = event_acc.Scalars(key)\n",
        "        steps = [e.step for e in events]\n",
        "        values = [e.value for e in events]\n",
        "        \n",
        "        # Plot data\n",
        "        plt.figure()\n",
        "        plt.plot(steps, values, label=key)\n",
        "        plt.xlabel(\"Steps\")\n",
        "        plt.ylabel(\"Value\")\n",
        "        plt.title(f\"Plot for {key}\")\n",
        "        plt.legend()\n",
        "        plt.grid(True)\n",
        "\n",
        "        # Save plot\n",
        "        plot_path = os.path.join(output_dir, f\"{key.replace('/', '_')}.png\")\n",
        "        plt.savefig(plot_path)\n",
        "        plt.close()\n",
        "        print(f\"Saved plot: {plot_path}\")\n",
        "\n",
        "# Example usage\n",
        "for i in range(21):\n",
        "\n",
        "    log_dir = os.path.join(chk_path,f\"PPO_{i+1}\") # Replace with your logs directory\n",
        "    output_dir = f\"tensorboard/PPO_{i}\"  # Replace with your desired output directory\n",
        "    extract_plots(log_dir, output_dir)\n"
      ]
    }
  ],
  "metadata": {
    "colab": {
      "provenance": []
    },
    "kernelspec": {
      "display_name": "Python 3",
      "name": "python3"
    },
    "language_info": {
      "codemirror_mode": {
        "name": "ipython",
        "version": 3
      },
      "file_extension": ".py",
      "mimetype": "text/x-python",
      "name": "python",
      "nbconvert_exporter": "python",
      "pygments_lexer": "ipython3",
      "version": "3.10.12"
    },
    "widgets": {
      "application/vnd.jupyter.widget-state+json": {
        "46852470cfb94659a29f86728e85ce56": {
          "model_module": "@jupyter-widgets/output",
          "model_module_version": "1.0.0",
          "model_name": "OutputModel",
          "state": {
            "_dom_classes": [],
            "_model_module": "@jupyter-widgets/output",
            "_model_module_version": "1.0.0",
            "_model_name": "OutputModel",
            "_view_count": null,
            "_view_module": "@jupyter-widgets/output",
            "_view_module_version": "1.0.0",
            "_view_name": "OutputView",
            "layout": "IPY_MODEL_23de0f74c3c5414d86c63dc5b9a8ce56",
            "msg_id": "",
            "outputs": []
          }
        }
      }
    }
  },
  "nbformat": 4,
  "nbformat_minor": 0
}
